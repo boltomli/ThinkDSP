{
 "cells": [
  {
   "cell_type": "markdown",
   "metadata": {},
   "source": [
    "ThinkDSP, by Allen Downey (think-dsp.com)\n",
    "\n",
    "This notebook contains code examples from Chapter "
   ]
  },
  {
   "cell_type": "code",
   "execution_count": null,
   "metadata": {
    "collapsed": false
   },
   "outputs": [],
   "source": [
    "from __future__ import print_function, division\n",
    "\n",
    "import thinkdsp\n",
    "import thinkplot\n",
    "import thinkstats2\n",
    "import math\n",
    "import numpy\n",
    "import pandas\n",
    "import scipy.signal\n",
    "\n",
    "from IPython.display import Image, display\n",
    "from matplotlib import pyplot"
   ]
  },
  {
   "cell_type": "code",
   "execution_count": null,
   "metadata": {
    "collapsed": false
   },
   "outputs": [],
   "source": [
    "pyplot.rcParams['image.cmap'] = 'Blues'\n",
    "pyplot.rcParams['image.interpolation'] = 'nearest'"
   ]
  },
  {
   "cell_type": "code",
   "execution_count": null,
   "metadata": {
    "collapsed": false
   },
   "outputs": [],
   "source": [
    "def plot_array(array):\n",
    "    pyplot.imshow(array)\n",
    "    thinkplot.Show(legend=False)"
   ]
  },
  {
   "cell_type": "code",
   "execution_count": null,
   "metadata": {
    "collapsed": false
   },
   "outputs": [],
   "source": [
    "def plot_arrays(array):\n",
    "    thinkplot.PrePlot(cols=2)\n",
    "    pyplot.imshow(array.real)\n",
    "    thinkplot.SubPlot(2)\n",
    "    pyplot.imshow(array.imag)\n",
    "    thinkplot.Show(legend=False)"
   ]
  },
  {
   "cell_type": "code",
   "execution_count": null,
   "metadata": {
    "collapsed": false
   },
   "outputs": [],
   "source": [
    "n = 64\n",
    "array = numpy.zeros((n, n))"
   ]
  },
  {
   "cell_type": "code",
   "execution_count": null,
   "metadata": {
    "collapsed": false
   },
   "outputs": [],
   "source": [
    "plot = plot_array(array)"
   ]
  },
  {
   "cell_type": "code",
   "execution_count": null,
   "metadata": {
    "collapsed": false
   },
   "outputs": [],
   "source": [
    "spectrum = scipy.fftpack.fft2(array)"
   ]
  },
  {
   "cell_type": "code",
   "execution_count": null,
   "metadata": {
    "collapsed": false
   },
   "outputs": [],
   "source": [
    "plot_arrays(spectrum)"
   ]
  },
  {
   "cell_type": "code",
   "execution_count": null,
   "metadata": {
    "collapsed": false
   },
   "outputs": [],
   "source": [
    "spectrum[8, 0] = 1\n",
    "array2 = scipy.fftpack.ifft2(spectrum)\n",
    "plot_arrays(array2)"
   ]
  },
  {
   "cell_type": "code",
   "execution_count": null,
   "metadata": {
    "collapsed": false
   },
   "outputs": [],
   "source": [
    "spectrum[0, 8] = 1\n",
    "array2 = scipy.fftpack.ifft2(spectrum)\n",
    "plot_arrays(array2)"
   ]
  },
  {
   "cell_type": "code",
   "execution_count": null,
   "metadata": {
    "collapsed": false
   },
   "outputs": [],
   "source": [
    "spectrum = scipy.fftpack.fft2(array)\n",
    "spectrum[8, 8] = 1\n",
    "array2 = scipy.fftpack.ifft2(spectrum)\n",
    "plot_arrays(array2)"
   ]
  },
  {
   "cell_type": "code",
   "execution_count": null,
   "metadata": {
    "collapsed": false
   },
   "outputs": [],
   "source": [
    "spectrum = scipy.fftpack.fft2(array)\n",
    "spectrum[8, -8] = 1\n",
    "array2 = scipy.fftpack.ifft2(spectrum)\n",
    "plot_arrays(array2)"
   ]
  },
  {
   "cell_type": "code",
   "execution_count": null,
   "metadata": {
    "collapsed": false
   },
   "outputs": [],
   "source": [
    "def plot_ifft2(index, index2=0):\n",
    "    spectrum = scipy.fftpack.fft2(array)\n",
    "    spectrum[index, index2] = 1\n",
    "    array2 = scipy.fftpack.ifft2(spectrum)\n",
    "    return plot_arrays(array2)"
   ]
  },
  {
   "cell_type": "code",
   "execution_count": null,
   "metadata": {
    "collapsed": false
   },
   "outputs": [],
   "source": [
    "from IPython.html.widgets import interact, interactive, fixed\n",
    "from IPython.html import widgets"
   ]
  },
  {
   "cell_type": "code",
   "execution_count": null,
   "metadata": {
    "collapsed": false
   },
   "outputs": [],
   "source": [
    "slider = widgets.IntSliderWidget(min=0, max=63, step=1, value=0)\n",
    "slider2 = widgets.IntSliderWidget(min=0, max=63, step=1, value=0)\n",
    "interact(plot_ifft2, index=slider, index2=slider2)"
   ]
  },
  {
   "cell_type": "code",
   "execution_count": null,
   "metadata": {
    "collapsed": false
   },
   "outputs": [],
   "source": []
  },
  {
   "cell_type": "code",
   "execution_count": null,
   "metadata": {
    "collapsed": false
   },
   "outputs": [],
   "source": []
  },
  {
   "cell_type": "code",
   "execution_count": null,
   "metadata": {
    "collapsed": false
   },
   "outputs": [],
   "source": [
    "from IPython.display import Image\n",
    "image = Image(filename='xkcd_fourier.jpg')\n",
    "image"
   ]
  },
  {
   "cell_type": "code",
   "execution_count": null,
   "metadata": {
    "collapsed": false
   },
   "outputs": [],
   "source": [
    "import matplotlib.image\n",
    "\n",
    "image = matplotlib.image.imread('xkcd_fourier.jpg')\n",
    "grayscale = image.sum(axis=2)\n",
    "grayscale"
   ]
  },
  {
   "cell_type": "code",
   "execution_count": null,
   "metadata": {
    "collapsed": false
   },
   "outputs": [],
   "source": [
    "plot_array(grayscale)"
   ]
  },
  {
   "cell_type": "code",
   "execution_count": null,
   "metadata": {
    "collapsed": false
   },
   "outputs": [],
   "source": [
    "def roll_spectrum(spectrum):\n",
    "    n, m = spectrum.shape\n",
    "    spectrum = numpy.roll(spectrum, n//2, axis=0)\n",
    "    spectrum = numpy.roll(spectrum, m//2, axis=1)\n",
    "    return spectrum"
   ]
  },
  {
   "cell_type": "code",
   "execution_count": null,
   "metadata": {
    "collapsed": false
   },
   "outputs": [],
   "source": [
    "def plot_spectrum(spectrum):\n",
    "    plot_array(numpy.log(numpy.absolute(spectrum)))"
   ]
  },
  {
   "cell_type": "code",
   "execution_count": null,
   "metadata": {
    "collapsed": false
   },
   "outputs": [],
   "source": [
    "spectrum = scipy.fftpack.fft2(grayscale)\n",
    "rolled = roll_spectrum(spectrum)\n",
    "plot_spectrum(rolled)"
   ]
  },
  {
   "cell_type": "code",
   "execution_count": null,
   "metadata": {
    "collapsed": false
   },
   "outputs": [],
   "source": [
    "image2 = scipy.fftpack.ifft2(spectrum)\n",
    "plot_array(image2.real)"
   ]
  },
  {
   "cell_type": "code",
   "execution_count": null,
   "metadata": {
    "collapsed": false
   },
   "outputs": [],
   "source": [
    "from skimage import img_as_float\n",
    "\n",
    "image = matplotlib.image.imread('1280px-Brick_wall_close-up_view.jpg')\n",
    "grayscale = img_as_float(image.sum(axis=2, dtype=numpy.float64))\n",
    "plot_array(grayscale)"
   ]
  },
  {
   "cell_type": "code",
   "execution_count": null,
   "metadata": {
    "collapsed": false
   },
   "outputs": [],
   "source": [
    "spectrum = scipy.fftpack.fft2(grayscale)\n",
    "rolled = roll_spectrum(spectrum)\n",
    "plot_spectrum(rolled)"
   ]
  },
  {
   "cell_type": "code",
   "execution_count": null,
   "metadata": {
    "collapsed": false
   },
   "outputs": [],
   "source": [
    "rows, cols = grayscale.shape\n",
    "fft_grayscale = numpy.zeros_like(grayscale, dtype=numpy.complex)\n",
    "\n",
    "for i in range(rows):\n",
    "    row = grayscale[i, :]\n",
    "    fft_row = scipy.fftpack.fft(row)\n",
    "    fft_grayscale[i, :] = fft_row\n",
    "    \n",
    "rolled = roll_spectrum(fft_grayscale)\n",
    "plot_spectrum(rolled)"
   ]
  },
  {
   "cell_type": "code",
   "execution_count": null,
   "metadata": {
    "collapsed": false
   },
   "outputs": [],
   "source": [
    "i = 0\n",
    "row = fft_grayscale[i, :]\n",
    "row[0] = 0\n",
    "spectrum = thinkdsp.Spectrum(row, framerate=cols)\n",
    "spectrum.plot(high=100)"
   ]
  },
  {
   "cell_type": "code",
   "execution_count": null,
   "metadata": {
    "collapsed": false
   },
   "outputs": [],
   "source": [
    "for j in range(cols):\n",
    "    col = fft_grayscale[:, j]\n",
    "    fft_col = scipy.fftpack.fft(col)\n",
    "    fft_grayscale[:, j] = fft_col\n",
    "    \n",
    "rolled = roll_spectrum(fft_grayscale)\n",
    "plot_spectrum(rolled)"
   ]
  },
  {
   "cell_type": "code",
   "execution_count": null,
   "metadata": {
    "collapsed": false
   },
   "outputs": [],
   "source": [
    "image2 = scipy.fftpack.ifft2(fft_grayscale)\n",
    "plot_arrays(image2)"
   ]
  },
  {
   "cell_type": "code",
   "execution_count": null,
   "metadata": {
    "collapsed": false
   },
   "outputs": [],
   "source": [
    "numpy.max(numpy.absolute(image2.imag))"
   ]
  },
  {
   "cell_type": "code",
   "execution_count": null,
   "metadata": {
    "collapsed": false
   },
   "outputs": [],
   "source": []
  }
 ],
 "metadata": {},
 "nbformat": 4,
 "nbformat_minor": 0
}